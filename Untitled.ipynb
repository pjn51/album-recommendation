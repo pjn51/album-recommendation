{
 "cells": [
  {
   "cell_type": "markdown",
   "id": "incorporate-sociology",
   "metadata": {},
   "source": [
    "# Fantano-Powered Recommendations"
   ]
  },
  {
   "cell_type": "markdown",
   "id": "printable-toyota",
   "metadata": {},
   "source": [
    "I want to create a web app where a user can enter various adjectives and recieve recommendations for music based on those adjectives. For example, if a user entered \"dreamy,\" \"atmospheric,\" and \"sleepy,\" they might get a Beach House album recommended to them, because maybe Anthony said those adjectives during his review of one of those albums. "
   ]
  },
  {
   "cell_type": "markdown",
   "id": "controlled-spiritual",
   "metadata": {},
   "source": [
    "# Possible Agenda\n",
    "- Get text of all Anthony Fantano reviews\n",
    "- Get adjectives from that text\n",
    "- Create vectors of all albums based on adjectives\n",
    "- Create web app framework to pass in adjectives"
   ]
  },
  {
   "cell_type": "code",
   "execution_count": 1,
   "id": "behind-croatia",
   "metadata": {},
   "outputs": [],
   "source": [
    "import pandas as pd\n",
    "import numpy as np"
   ]
  },
  {
   "cell_type": "code",
   "execution_count": null,
   "id": "about-finnish",
   "metadata": {},
   "outputs": [],
   "source": []
  }
 ],
 "metadata": {
  "kernelspec": {
   "display_name": "Python 3",
   "language": "python",
   "name": "python3"
  },
  "language_info": {
   "codemirror_mode": {
    "name": "ipython",
    "version": 3
   },
   "file_extension": ".py",
   "mimetype": "text/x-python",
   "name": "python",
   "nbconvert_exporter": "python",
   "pygments_lexer": "ipython3",
   "version": "3.8.5"
  }
 },
 "nbformat": 4,
 "nbformat_minor": 5
}
